{
 "cells": [
  {
   "cell_type": "code",
   "execution_count": 9,
   "id": "3e66337e",
   "metadata": {},
   "outputs": [
    {
     "name": "stdout",
     "output_type": "stream",
     "text": [
      "  school sex  age address famsize Pstatus  Medu  Fedu     Mjob      Fjob  ...  \\\n",
      "0     GP   F   18       U     GT3       A     4     4  at_home   teacher  ...   \n",
      "1     GP   F   17       U     GT3       T     1     1  at_home     other  ...   \n",
      "2     GP   F   15       U     LE3       T     1     1  at_home     other  ...   \n",
      "3     GP   F   15       U     GT3       T     4     2   health  services  ...   \n",
      "4     GP   F   16       U     GT3       T     3     3    other     other  ...   \n",
      "\n",
      "  goout Dalc  Walc  health  absences  G1  G2  G3   G3_label Predicted_G3_label  \n",
      "0     4    1     1       3         4   0  11  11  below avg          above avg  \n",
      "1     3    1     1       3         2   9  11  11  below avg          above avg  \n",
      "2     2    2     3       3         6  12  13  12  above avg          below avg  \n",
      "3     2    1     1       5         0  14  14  14  above avg          above avg  \n",
      "4     2    1     2       5         0  11  13  13  above avg          above avg  \n",
      "\n",
      "[5 rows x 35 columns]\n"
     ]
    }
   ],
   "source": [
    "import pandas as pd\n",
    "import joblib\n",
    "\n",
    "#  Load the pkl\n",
    "model = joblib.load('logistic_model.pkl')\n",
    "label_encoders = joblib.load('label_encoders.pkl')\n",
    "\n",
    "# Load dataset\n",
    "new_data_path = 'por_G3.csv'  \n",
    "new_data = pd.read_csv(new_data_path)\n",
    "\n",
    "# Encode categorical features\n",
    "def encode_features(data, encoders):\n",
    "    for column in encoders.keys():\n",
    "        if column in data.columns:\n",
    "            le = encoders[column]\n",
    "            # Check for unseen labels and filter them out\n",
    "            unseen_labels = data[column][~data[column].isin(le.classes_)]\n",
    "            if not unseen_labels.empty:\n",
    "                print(f\"Unseen labels in column '{column}': {unseen_labels.unique()}\")\n",
    "                data = data[data[column].isin(le.classes_)]  # Filter out unseen labels\n",
    "            \n",
    "            data[column] = le.transform(data[column])\n",
    "    return data\n",
    "\n",
    "new_data_encoded = encode_features(new_data.copy(), label_encoders)\n",
    "\n",
    "# Select the feature\n",
    "features = [\n",
    "    'sex', 'age', 'address', 'famsize', 'Pstatus', \n",
    "    'Medu', 'Fedu', 'Mjob', 'Fjob', 'reason', \n",
    "    'guardian', 'traveltime', 'studytime', 'failures', \n",
    "    'schoolsup', 'famsup', 'paid', 'activities', \n",
    "    'nursery', 'higher', 'internet', 'romantic', \n",
    "    'famrel', 'freetime', 'goout', 'Dalc', \n",
    "    'Walc', 'health', 'absences'\n",
    "]\n",
    "\n",
    "X_new = new_data_encoded[features]\n",
    "predictions = model.predict(X_new)\n",
    "\n",
    "# Prediction\n",
    "new_data['Predicted_G3_label'] = predictions\n",
    "print(new_data.head())\n",
    "\n"
   ]
  },
  {
   "cell_type": "code",
   "execution_count": null,
   "id": "63b4a540",
   "metadata": {},
   "outputs": [],
   "source": []
  },
  {
   "cell_type": "code",
   "execution_count": null,
   "id": "bd5e320f",
   "metadata": {},
   "outputs": [],
   "source": []
  },
  {
   "cell_type": "code",
   "execution_count": null,
   "id": "2fc6a70c",
   "metadata": {},
   "outputs": [],
   "source": []
  }
 ],
 "metadata": {
  "kernelspec": {
   "display_name": "Python 3 (ipykernel)",
   "language": "python",
   "name": "python3"
  },
  "language_info": {
   "codemirror_mode": {
    "name": "ipython",
    "version": 3
   },
   "file_extension": ".py",
   "mimetype": "text/x-python",
   "name": "python",
   "nbconvert_exporter": "python",
   "pygments_lexer": "ipython3",
   "version": "3.11.5"
  }
 },
 "nbformat": 4,
 "nbformat_minor": 5
}
