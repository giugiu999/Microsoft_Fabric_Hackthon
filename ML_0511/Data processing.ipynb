{
 "cells": [
  {
   "cell_type": "code",
   "execution_count": 7,
   "id": "3e66337e",
   "metadata": {},
   "outputs": [
    {
     "name": "stdout",
     "output_type": "stream",
     "text": [
      "Datase exported 'por_G3.csv'\n"
     ]
    }
   ],
   "source": [
    "import pandas as pd\n",
    "\n",
    "def process_student_data(input_file, output_file):\n",
    "    data = pd.read_csv(input_file, sep=';')\n",
    "    average_g3 = data['G3'].mean()\n",
    "    data['G3_label'] = ['above avg' if grade > average_g3 else 'below avg' for grade in data['G3']]\n",
    "    data.to_csv(output_file, index=False)\n",
    "    print(f\"Datase exported '{output_file}'\")\n",
    "    \n",
    "input_file = 'student-por.csv' \n",
    "output_file = 'por_G3.csv'  \n",
    "\n",
    "process_student_data(input_file, output_file)\n"
   ]
  },
  {
   "cell_type": "code",
   "execution_count": null,
   "id": "8692ad30",
   "metadata": {},
   "outputs": [],
   "source": []
  }
 ],
 "metadata": {
  "kernelspec": {
   "display_name": "Python 3 (ipykernel)",
   "language": "python",
   "name": "python3"
  },
  "language_info": {
   "codemirror_mode": {
    "name": "ipython",
    "version": 3
   },
   "file_extension": ".py",
   "mimetype": "text/x-python",
   "name": "python",
   "nbconvert_exporter": "python",
   "pygments_lexer": "ipython3",
   "version": "3.11.5"
  }
 },
 "nbformat": 4,
 "nbformat_minor": 5
}
